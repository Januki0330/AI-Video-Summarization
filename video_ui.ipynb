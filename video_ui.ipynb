{
 "cells": [
  {
   "cell_type": "code",
   "execution_count": 3,
   "metadata": {},
   "outputs": [
    {
     "name": "stderr",
     "output_type": "stream",
     "text": [
      "Device set to use cpu\n"
     ]
    }
   ],
   "source": [
    "# video_ui.py\n",
    "import tkinter as tk\n",
    "from tkinter import filedialog, scrolledtext\n",
    "import video_processing  # Import the processing module\n",
    "\n",
    "# Create the main window\n",
    "window = tk.Tk()\n",
    "window.title(\"Video Summarizer & Quiz Generator\")\n",
    "window.geometry(\"800x600\")        \n",
    "\n",
    "# Add after process_button.pack()\n",
    "tk.Label(window, text=\"Summary Style\").pack()\n",
    "style_var = tk.StringVar(value=\"concise\")\n",
    "style_menu = tk.OptionMenu(window, style_var, \"concise\", \"detailed\")\n",
    "style_menu.pack(pady=5)\n",
    "\n",
    "\n",
    "# Video selection\n",
    "tk.Label(window, text=\"Step 1: Select a Video\").pack(pady=5)\n",
    "select_button = tk.Button(window, text=\"Browse\", command=select_video)\n",
    "select_button.pack()\n",
    "video_label = tk.Label(window, text=\"No video selected\")\n",
    "video_label.pack(pady=5)\n",
    "\n",
    "# Process button\n",
    "process_button = tk.Button(window, text=\"Step 2: Process Video\", command=process_video, state=\"disabled\")\n",
    "process_button.pack(pady=10)\n",
    "\n",
    "# Output sections\n",
    "tk.Label(window, text=\"Transcript\").pack()\n",
    "transcript_text = scrolledtext.ScrolledText(window, width=80, height=10)\n",
    "transcript_text.pack(pady=5)\n",
    "\n",
    "tk.Label(window, text=\"Summary\").pack()\n",
    "summary_text = scrolledtext.ScrolledText(window, width=80, height=5)\n",
    "summary_text.pack(pady=5)\n",
    "\n",
    "tk.Label(window, text=\"Quiz\").pack()\n",
    "quiz_text = scrolledtext.ScrolledText(window, width=80, height=10)\n",
    "quiz_text.pack(pady=5)\n",
    "\n",
    "# Store selected video path\n",
    "selected_video = None\n",
    "\n",
    "# Start the UI loop\n",
    "window.mainloop()"
   ]
  },
  {
   "cell_type": "code",
   "execution_count": null,
   "metadata": {},
   "outputs": [],
   "source": [
    "# UI Functions\n",
    "def select_video():\n",
    "    video_path = filedialog.askopenfilename(filetypes=[(\"MP4 files\", \"*.mp4\")])\n",
    "    if video_path:\n",
    "        video_label.config(text=f\"Selected: {video_path}\")\n",
    "        process_button.config(state=\"normal\")\n",
    "        global selected_video\n",
    "        selected_video = video_path\n",
    "\n",
    "\n",
    "# Update process_video function\n",
    "def process_video():\n",
    "    transcript_text.delete(1.0, tk.END)\n",
    "    summary_text.delete(1.0, tk.END)\n",
    "    quiz_text.delete(1.0, tk.END)\n",
    "    transcript_text.insert(tk.END, \"Processing... Please wait.\\n\")\n",
    "    window.update()\n",
    "\n",
    "    try:\n",
    "        audio_file = video_processing.extract_audio_from_video(selected_video)\n",
    "        text = video_processing.audio_to_text(audio_file)\n",
    "        summary = video_processing.summarize_text(text, style=style_var.get())\n",
    "        quiz = video_processing.generate_quiz(summary)\n",
    "\n",
    "        transcript_text.delete(1.0, tk.END)\n",
    "        transcript_text.insert(tk.END, text)\n",
    "        summary_text.insert(tk.END, summary)\n",
    "        quiz_text.insert(tk.END, f\"{quiz['question']}\\n\" + \"\\n\".join(quiz['options']) + f\"\\nAnswer: {quiz['answer']}\")\n",
    "    except Exception as e:\n",
    "        transcript_text.delete(1.0, tk.END)\n",
    "        transcript_text.insert(tk.END, f\"Error: {str(e)}\")\n",
    "\n"
   ]
  }
 ],
 "metadata": {
  "kernelspec": {
   "display_name": "Python 3",
   "language": "python",
   "name": "python3"
  },
  "language_info": {
   "codemirror_mode": {
    "name": "ipython",
    "version": 3
   },
   "file_extension": ".py",
   "mimetype": "text/x-python",
   "name": "python",
   "nbconvert_exporter": "python",
   "pygments_lexer": "ipython3",
   "version": "3.13.2"
  }
 },
 "nbformat": 4,
 "nbformat_minor": 2
}
